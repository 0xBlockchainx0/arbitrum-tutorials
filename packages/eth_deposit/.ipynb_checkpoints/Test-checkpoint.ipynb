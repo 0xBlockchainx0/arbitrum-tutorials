{
 "cells": [
  {
   "cell_type": "markdown",
   "id": "a74fcddb",
   "metadata": {},
   "source": [
    "# eth_deposit Tutorial"
   ]
  },
  {
   "cell_type": "markdown",
   "id": "d4ac5618",
   "metadata": {},
   "source": [
    "eth_deposit is an example of moving Ether from Ethereum (Layer 1) onto the Arbitrum (Layer 2) chain."
   ]
  },
  {
   "cell_type": "markdown",
   "id": "d56a21b6",
   "metadata": {},
   "source": [
    "## Running locally"
   ]
  },
  {
   "cell_type": "markdown",
   "id": "8bae511f",
   "metadata": {},
   "source": [
    "eth_deposit is configurable.  You can configure it with the following environment variables:"
   ]
  },
  {
   "cell_type": "markdown",
   "id": "9745ab58",
   "metadata": {},
   "source": [
    "1. In the application folder, copy the ```.env-sample``` file and create a file called ```.env```."
   ]
  },
  {
   "cell_type": "raw",
   "id": "63425c02",
   "metadata": {},
   "source": [
    "cp .env.example .env"
   ]
  },
  {
   "cell_type": "markdown",
   "id": "101bb568",
   "metadata": {},
   "source": [
    "2. Open the .env file and add the variables."
   ]
  },
  {
   "cell_type": "markdown",
   "id": "2f426a96",
   "metadata": {},
   "source": [
    "3. Run the following command in order to compile and execute the smart contracts."
   ]
  },
  {
   "cell_type": "code",
   "execution_count": 5,
   "id": "c5263bdb",
   "metadata": {},
   "outputs": [
    {
     "ename": "SyntaxError",
     "evalue": "Unexpected identifier",
     "output_type": "error",
     "traceback": [
      "evalmachine.<anonymous>:1",
      "yarn hardhat run scripts/exec.js",
      "     ^^^^^^^",
      "",
      "SyntaxError: Unexpected identifier",
      "    at new Script (vm.js:88:7)",
      "    at createScript (vm.js:261:10)",
      "    at Object.runInThisContext (vm.js:309:10)",
      "    at run ([eval]:1054:15)",
      "    at onRunRequest ([eval]:888:18)",
      "    at onMessage ([eval]:848:13)",
      "    at process.emit (events.js:314:20)",
      "    at emit (internal/child_process.js:877:12)",
      "    at processTicksAndRejections (internal/process/task_queues.js:85:21)"
     ]
    }
   ],
   "source": [
    "yarn hardhat run scripts/exec.js"
   ]
  },
  {
   "cell_type": "markdown",
   "id": "28268b27",
   "metadata": {},
   "source": [
    "## How It Works?"
   ]
  },
  {
   "cell_type": "markdown",
   "id": "a822421d",
   "metadata": {},
   "source": [
    "#### Inbox.sol:"
   ]
  },
  {
   "cell_type": "markdown",
   "id": "51a20f37",
   "metadata": {},
   "source": [
    "* This contract is the arbitrum inbox contract that resides on the Kovan testnet and allows people and contracts to transfer Ether between Ethereum and Arbitrum chain. \n",
    "* Inbox contract address on the Kovan testnet: <span style=\"color: blue\">0xD71d47AD1b63981E9dB8e4A78C0b30170da8a601</span>"
   ]
  },
  {
   "cell_type": "markdown",
   "id": "b68528c1",
   "metadata": {},
   "source": [
    "####  Payment.sol:"
   ]
  },
  {
   "cell_type": "markdown",
   "id": "351d2191",
   "metadata": {},
   "source": [
    "* This contract executes a deposit transaction via `Inbox.depositEth(address destination)` on the Kovan testnet. This transfers funds to the Bridge contract on the L1 and credits the same funds to you inside the Arbitrum chain at the specified address."
   ]
  },
  {
   "cell_type": "markdown",
   "id": "52d35516",
   "metadata": {},
   "source": [
    "## Curious to see the output on the Arbitrum chain?"
   ]
  },
  {
   "cell_type": "markdown",
   "id": "05807748",
   "metadata": {},
   "source": [
    "Once the script is successfully executed, you can go to the [Arbitrum block explorer](https://explorer.arbitrum.io), enter your public key, and see the amount of ETH that has been assigned to your address on the Arbitrum chain!"
   ]
  },
  {
   "cell_type": "markdown",
   "id": "3e59f2c6",
   "metadata": {},
   "source": [
    "<img align=“center” src=\"https://offchainlabs.com/c79291eee1a8e736eebd9a2c708dbe44.png\" width=\"350\" height=\"100\"> "
   ]
  },
  {
   "cell_type": "code",
   "execution_count": null,
   "id": "0db06123",
   "metadata": {},
   "outputs": [],
   "source": []
  }
 ],
 "metadata": {
  "kernelspec": {
   "display_name": "Javascript (Node.js)",
   "language": "javascript",
   "name": "javascript"
  },
  "language_info": {
   "file_extension": ".js",
   "mimetype": "application/javascript",
   "name": "javascript",
   "version": "12.22.1"
  }
 },
 "nbformat": 4,
 "nbformat_minor": 5
}
